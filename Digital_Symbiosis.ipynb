{
 "cells": [
  {
   "cell_type": "code",
   "execution_count": 14,
   "metadata": {},
   "outputs": [],
   "source": [
    "# load libraries\n",
    "import numpy as np\n",
    "import pandas as pd\n",
    "import open3d as o3d\n",
    "\n",
    "from matplotlib import pyplot as plt\n",
    "from matplotlib.offsetbox import OffsetImage, AnnotationBbox\n",
    "from mpl_toolkits.mplot3d import Axes3D\n",
    "from matplotlib import offsetbox\n",
    "import matplotlib.colors as mcolors\n",
    "\n",
    "from sklearn import decomposition\n",
    "from sklearn import datasets\n",
    "from sklearn.manifold import TSNE\n",
    "from sklearn.cluster import MiniBatchKMeans\n",
    "from sklearn.decomposition import IncrementalPCA, FastICA\n",
    "from sklearn.neighbors import NearestNeighbors\n",
    "from scipy.spatial.distance import euclidean"
   ]
  },
  {
   "cell_type": "code",
   "execution_count": 15,
   "metadata": {},
   "outputs": [],
   "source": [
    "# Load Aggelos' pointcloud (x,y,z,R,G,B)\n",
    "pcd_Aggelos = o3d.io.read_point_cloud(r\"C:\\Users\\...\\3D_scanned_rooms_compared\\AggelosRoom.ply\")\n",
    "\n",
    "# Get points and colors in two arrays\n",
    "pnt_Aggelos = pcd_Aggelos.points\n",
    "col_Aggelos = pcd_Aggelos.colors"
   ]
  },
  {
   "cell_type": "code",
   "execution_count": 16,
   "metadata": {},
   "outputs": [],
   "source": [
    "# Concentrate Aggelos data in 1 array\n",
    "AllData_Aggelos = np.concatenate([pnt_Aggelos, col_Aggelos], axis=1)"
   ]
  },
  {
   "cell_type": "code",
   "execution_count": null,
   "metadata": {},
   "outputs": [],
   "source": [
    "#Load & Concentrate all pointclouds"
   ]
  },
  {
   "cell_type": "code",
   "execution_count": 17,
   "metadata": {},
   "outputs": [],
   "source": [
    "pcd_Yota = o3d.io.read_point_cloud(r\"C:\\Users\\...\\3D_scanned_rooms_compared\\YotasRoom.ply\")\n",
    "\n",
    "pnt_Yota = pcd_Yota.points\n",
    "col_Yota = pcd_Yota.colors"
   ]
  },
  {
   "cell_type": "code",
   "execution_count": 18,
   "metadata": {},
   "outputs": [],
   "source": [
    "AllData_Yota = np.concatenate([pnt_Yota, col_Yota], axis=1)"
   ]
  },
  {
   "cell_type": "code",
   "execution_count": 19,
   "metadata": {},
   "outputs": [],
   "source": [
    "pcd_Aggela = o3d.io.read_point_cloud(r\"C:\\Users\\...\\3D_scanned_rooms_compared\\AggelasRoom.ply\")\n",
    "\n",
    "pnt_Aggela = pcd_Aggela.points\n",
    "col_Aggela = pcd_Aggela.colors"
   ]
  },
  {
   "cell_type": "code",
   "execution_count": 20,
   "metadata": {},
   "outputs": [],
   "source": [
    "AllData_Aggela = np.concatenate([pnt_Aggela, col_Aggela], axis=1)"
   ]
  },
  {
   "cell_type": "code",
   "execution_count": 21,
   "metadata": {},
   "outputs": [],
   "source": [
    "pcd_Sofia = o3d.io.read_point_cloud(r\"C:\\Users\\...\\3D_scanned_rooms_compared\\SofiasRoom.ply\")\n",
    "\n",
    "pnt_Sofia = pcd_Sofia.points\n",
    "col_Sofia = pcd_Sofia.colors"
   ]
  },
  {
   "cell_type": "code",
   "execution_count": 22,
   "metadata": {},
   "outputs": [],
   "source": [
    "AllData_Sofia = np.concatenate([pnt_Sofia, col_Sofia], axis=1)"
   ]
  },
  {
   "cell_type": "code",
   "execution_count": 23,
   "metadata": {},
   "outputs": [],
   "source": [
    "pcd_Antonis = o3d.io.read_point_cloud(r\"C:\\Users\\...\\3D_scanned_rooms_compared\\AntonisRoom.ply\")\n",
    "\n",
    "pnt_Antonis = pcd_Antonis.points\n",
    "col_Antonis = pcd_Antonis.colors"
   ]
  },
  {
   "cell_type": "code",
   "execution_count": 24,
   "metadata": {},
   "outputs": [],
   "source": [
    "AllData_Antonis = np.concatenate([pnt_Antonis, col_Antonis], axis=1)"
   ]
  },
  {
   "cell_type": "code",
   "execution_count": 25,
   "metadata": {},
   "outputs": [],
   "source": [
    "pcd_Enricos = o3d.io.read_point_cloud(r\"C:\\Users\\...\\3D_scanned_rooms_compared\\EnricosRoom.ply\")\n",
    "\n",
    "pnt_Enricos = pcd_Enricos.points\n",
    "col_Enricos = pcd_Enricos.colors"
   ]
  },
  {
   "cell_type": "code",
   "execution_count": 26,
   "metadata": {},
   "outputs": [],
   "source": [
    "AllData_Enricos = np.concatenate([pnt_Enricos, col_Enricos], axis=1)"
   ]
  },
  {
   "cell_type": "code",
   "execution_count": 27,
   "metadata": {},
   "outputs": [],
   "source": [
    "pcd_Martins = o3d.io.read_point_cloud(r\"C:\\Users\\...\\3D_scanned_rooms_compared\\MartinsRoom.ply\")\n",
    "\n",
    "pnt_Martins = pcd_Martins.points\n",
    "col_Martins = pcd_Martins.colors"
   ]
  },
  {
   "cell_type": "code",
   "execution_count": 28,
   "metadata": {},
   "outputs": [],
   "source": [
    "AllData_Martins = np.concatenate([pnt_Martins, col_Martins], axis=1)"
   ]
  },
  {
   "cell_type": "code",
   "execution_count": 29,
   "metadata": {},
   "outputs": [],
   "source": [
    "pcd_Polinikis = o3d.io.read_point_cloud(r\"C:\\Users\\...\\3D_scanned_rooms_compared\\PolynikisRoom.ply\")\n",
    "\n",
    "pnt_Polinikis = pcd_Polinikis.points\n",
    "col_Polinikis = pcd_Polinikis.colors"
   ]
  },
  {
   "cell_type": "code",
   "execution_count": 30,
   "metadata": {},
   "outputs": [],
   "source": [
    "AllData_Polinikis = np.concatenate([pnt_Polinikis, col_Polinikis], axis=1)"
   ]
  },
  {
   "cell_type": "code",
   "execution_count": 31,
   "metadata": {},
   "outputs": [],
   "source": [
    "pcd_Alex = o3d.io.read_point_cloud(r\"C:\\Users\\...\\3D_scanned_rooms_compared\\AlexRoom.ply\")\n",
    "\n",
    "pnt_Alex = pcd_Alex.points\n",
    "col_Alex = pcd_Alex.colors"
   ]
  },
  {
   "cell_type": "code",
   "execution_count": 32,
   "metadata": {},
   "outputs": [],
   "source": [
    "AllData_Alex = np.concatenate([pnt_Alex, col_Alex], axis=1)"
   ]
  },
  {
   "cell_type": "code",
   "execution_count": 33,
   "metadata": {},
   "outputs": [],
   "source": [
    "pcd_Pitts = o3d.io.read_point_cloud(r\"C:\\Users\\...\\3D_scanned_rooms_compared\\PittsRoom.ply\")\n",
    "\n",
    "pnt_Pitts = pcd_Pitts.points\n",
    "col_Pitts = pcd_Pitts.colors"
   ]
  },
  {
   "cell_type": "code",
   "execution_count": 34,
   "metadata": {},
   "outputs": [],
   "source": [
    "AllData_Pitts = np.concatenate([pnt_Pitts, col_Pitts], axis=1)"
   ]
  },
  {
   "cell_type": "code",
   "execution_count": 35,
   "metadata": {},
   "outputs": [],
   "source": [
    "pcd_Chryssas = o3d.io.read_point_cloud(r\"C:\\Users\\...\\3D_scanned_rooms_compared\\ChryssasRoom.ply\")\n",
    "\n",
    "pnt_Chryssas = pcd_Chryssas.points\n",
    "col_Chryssas = pcd_Chryssas.colors"
   ]
  },
  {
   "cell_type": "code",
   "execution_count": 36,
   "metadata": {},
   "outputs": [],
   "source": [
    "AllData_Chryssas = np.concatenate([pnt_Chryssas, col_Chryssas], axis=1)"
   ]
  },
  {
   "cell_type": "code",
   "execution_count": 37,
   "metadata": {},
   "outputs": [],
   "source": [
    "pcd_Imke = o3d.io.read_point_cloud(r\"C:\\Users\\...\\3D_scanned_rooms_compared\\ImkeRoom.ply\")\n",
    "\n",
    "pnt_Imke = pcd_Imke.points\n",
    "col_Imke = pcd_Imke.colors"
   ]
  },
  {
   "cell_type": "code",
   "execution_count": 38,
   "metadata": {},
   "outputs": [],
   "source": [
    "AllData_Imke = np.concatenate([pnt_Imke, col_Imke], axis=1)"
   ]
  },
  {
   "cell_type": "code",
   "execution_count": 39,
   "metadata": {},
   "outputs": [],
   "source": [
    "pcd_AntonisB = o3d.io.read_point_cloud(r\"C:\\Users\\...\\3D_scanned_rooms_compared\\AntonisBRoom.ply\")\n",
    "\n",
    "pnt_AntonisB = pcd_AntonisB.points\n",
    "col_AntonisB = pcd_AntonisB.colors"
   ]
  },
  {
   "cell_type": "code",
   "execution_count": 40,
   "metadata": {},
   "outputs": [],
   "source": [
    "AllData_AntonisB = np.concatenate([pnt_AntonisB, col_AntonisB], axis=1)"
   ]
  },
  {
   "cell_type": "code",
   "execution_count": 41,
   "metadata": {},
   "outputs": [],
   "source": [
    "pcd_George = o3d.io.read_point_cloud(r\"C:\\Users\\...\\3D_scanned_rooms_compared\\GeorgeRoom.ply\")\n",
    "\n",
    "pnt_George = pcd_George.points\n",
    "col_George = pcd_George.colors"
   ]
  },
  {
   "cell_type": "code",
   "execution_count": 42,
   "metadata": {},
   "outputs": [],
   "source": [
    "AllData_George = np.concatenate([pnt_George, col_George], axis=1)"
   ]
  },
  {
   "cell_type": "code",
   "execution_count": 43,
   "metadata": {},
   "outputs": [],
   "source": [
    "pcd_Thanasis = o3d.io.read_point_cloud(r\"C:\\Users\\...\\3D_scanned_rooms_compared\\ThanasisRoom.ply\")\n",
    "\n",
    "pnt_Thanasis = pcd_Thanasis.points\n",
    "col_Thanasis = pcd_Thanasis.colors"
   ]
  },
  {
   "cell_type": "code",
   "execution_count": 44,
   "metadata": {},
   "outputs": [],
   "source": [
    "AllData_Thanasis = np.concatenate([pnt_Thanasis, col_Thanasis], axis=1)"
   ]
  },
  {
   "cell_type": "code",
   "execution_count": 45,
   "metadata": {},
   "outputs": [],
   "source": [
    "pcd_Vasilis = o3d.io.read_point_cloud(r\"C:\\Users\\...\\3D_scanned_rooms_compared\\VasilisRoom.ply\")\n",
    "\n",
    "pnt_Vasilis = pcd_Vasilis.points\n",
    "col_Vasilis = pcd_Vasilis.colors"
   ]
  },
  {
   "cell_type": "code",
   "execution_count": 46,
   "metadata": {},
   "outputs": [],
   "source": [
    "AllData_Vasilis = np.concatenate([pnt_Vasilis, col_Vasilis], axis=1)"
   ]
  },
  {
   "cell_type": "code",
   "execution_count": 47,
   "metadata": {},
   "outputs": [],
   "source": [
    "pcd_GeorgeB = o3d.io.read_point_cloud(r\"C:\\Users\\...\\3D_scanned_rooms_compared\\GeorgeB.ply\")\n",
    "\n",
    "pnt_GeorgeB = pcd_GeorgeB.points\n",
    "col_GeorgeB = pcd_GeorgeB.colors"
   ]
  },
  {
   "cell_type": "code",
   "execution_count": 48,
   "metadata": {},
   "outputs": [],
   "source": [
    "AllData_GeorgeB = np.concatenate([pnt_GeorgeB, col_GeorgeB], axis=1)"
   ]
  },
  {
   "cell_type": "code",
   "execution_count": 49,
   "metadata": {},
   "outputs": [],
   "source": [
    "pcd_Iliana = o3d.io.read_point_cloud(r\"C:\\Users\\...\\3D_scanned_rooms_compared\\IlianasRoom.ply\")\n",
    "\n",
    "pnt_Iliana = pcd_Iliana.points\n",
    "col_Iliana = pcd_Iliana.colors"
   ]
  },
  {
   "cell_type": "code",
   "execution_count": 50,
   "metadata": {},
   "outputs": [],
   "source": [
    "AllData_Iliana = np.concatenate([pnt_Iliana, col_Iliana], axis=1)"
   ]
  },
  {
   "cell_type": "code",
   "execution_count": 51,
   "metadata": {},
   "outputs": [],
   "source": [
    "pcd_Apostolis = o3d.io.read_point_cloud(r\"C:\\Users\\...\\3D_scanned_rooms_compared\\ApostolisRoom.ply\")\n",
    "\n",
    "pnt_Apostolis = pcd_Apostolis.points\n",
    "col_Apostolis = pcd_Apostolis.colors"
   ]
  },
  {
   "cell_type": "code",
   "execution_count": 52,
   "metadata": {},
   "outputs": [],
   "source": [
    "AllData_Apostolis = np.concatenate([pnt_Apostolis, col_Apostolis], axis=1)"
   ]
  },
  {
   "cell_type": "code",
   "execution_count": 53,
   "metadata": {},
   "outputs": [],
   "source": [
    "pcd_Dimitris = o3d.io.read_point_cloud(r\"C:\\Users\\...\\3D_scanned_rooms_compared\\DimitrisRoom.ply\")\n",
    "\n",
    "pnt_Dimitris = pcd_Dimitris.points\n",
    "col_Dimitris = pcd_Dimitris.colors"
   ]
  },
  {
   "cell_type": "code",
   "execution_count": 54,
   "metadata": {},
   "outputs": [],
   "source": [
    "AllData_Dimitris = np.concatenate([pnt_Dimitris, col_Dimitris], axis=1)"
   ]
  },
  {
   "cell_type": "code",
   "execution_count": 55,
   "metadata": {},
   "outputs": [
    {
     "name": "stdout",
     "output_type": "stream",
     "text": [
      "[[ 0.14369095  0.27575598  0.00694855  0.4627451   0.36078431  0.23137255]\n",
      " [ 0.1032726   0.20801829 -0.06583401  0.10980392  0.6627451   0.81568627]\n",
      " [ 0.19441592  0.22653101 -0.00474727  0.38431373  0.35686275  0.32941176]\n",
      " ...\n",
      " [-0.21540838 -0.06210236  0.25366057  0.53333333  0.5254902   0.5254902 ]\n",
      " [ 0.18916019 -0.18498471 -0.46408591  0.21568627  0.12941176  0.20784314]\n",
      " [-0.16462888  0.0859633   0.2202309   0.59607843  0.77254902  0.85490196]]\n",
      "[[-4.07730510e+00 -2.66569827e+00  2.82512383e+01  6.82352941e-01\n",
      "   6.62745098e-01  6.54901961e-01]\n",
      " [ 2.75299057e-02  7.23286416e+00  2.35189946e+01  6.35294118e-01\n",
      "   6.82352941e-01  7.09803922e-01]\n",
      " [ 2.95438359e+00 -4.07910893e+00  2.59515700e+01  6.66666667e-01\n",
      "   5.76470588e-01  5.05882353e-01]\n",
      " ...\n",
      " [ 3.15025185e+00 -2.01338861e+00  2.75244183e+01  1.41176471e-01\n",
      "   1.64705882e-01  2.11764706e-01]\n",
      " [ 1.87795589e+00 -5.87895844e+00  3.00412764e+01  4.62745098e-01\n",
      "   5.21568627e-01  6.62745098e-01]\n",
      " [-2.59598453e-01 -1.64616011e+00  2.77417187e+01  4.70588235e-02\n",
      "   3.92156863e-02  5.88235294e-02]]\n",
      "[[-15.51712534   5.59101887   5.42803144   0.76470588   0.78823529\n",
      "    0.83529412]\n",
      " [-15.08009359   5.39307947  10.66655337   0.12156863   0.16470588\n",
      "    0.2       ]\n",
      " [-15.39234945   4.8824975   10.15437668   0.13333333   0.12941176\n",
      "    0.2       ]\n",
      " ...\n",
      " [  9.8593767    8.02887936  10.14402675   0.45490196   0.45882353\n",
      "    0.46666667]\n",
      " [  9.75560835   8.07128306  10.17930823   0.45882353   0.45490196\n",
      "    0.46666667]\n",
      " [ -1.17124567  -7.91593628  14.36447047   0.25882353   0.4\n",
      "    0.58039216]]\n",
      "[[ 1.78513962 -3.10955271  8.04747852  0.10588235  0.09411765  0.08627451]\n",
      " [-1.35074025 -6.36738071 13.36037704  0.07058824  0.08235294  0.09411765]\n",
      " [ 2.18174369  1.02872744  8.14448592  0.69411765  0.66666667  0.62352941]\n",
      " ...\n",
      " [ 1.2257458  -7.23245534 14.03147503  0.33333333  0.32941176  0.30196078]\n",
      " [ 0.28056053 -6.80563697  9.2538968   0.6         0.58039216  0.60392157]\n",
      " [-2.72910195 -5.40145835 10.16752441  0.28627451  0.27058824  0.27843137]]\n",
      "[[  6.04506213 -18.14989406  26.96538918   0.97647059   0.99215686\n",
      "    0.99607843]\n",
      " [  3.04474469 -16.19362614  17.11204744   0.54509804   0.61568627\n",
      "    0.66666667]\n",
      " [  1.4435495    8.00173635  14.04015556   0.60392157   0.58823529\n",
      "    0.57647059]\n",
      " ...\n",
      " [-10.48519928  10.79869551  20.07721419   0.75294118   0.76862745\n",
      "    0.76078431]\n",
      " [-10.49241357  10.81350839  20.08372102   0.75294118   0.76470588\n",
      "    0.75686275]\n",
      " [-18.06636653   8.01654486  29.21113635   0.63137255   0.6745098\n",
      "    0.65098039]]\n",
      "[[-4.04253656e+02  3.53340335e+02  1.04673324e+02  1.17647059e-01\n",
      "   5.49019608e-02  5.09803922e-02]\n",
      " [-4.21970995e+02  2.84517074e+02 -5.83052913e+01  5.05882353e-01\n",
      "   4.07843137e-01  3.60784314e-01]\n",
      " [-3.80901756e+02  1.82999161e+02 -6.64329206e+01  1.09803922e-01\n",
      "   2.74509804e-02  3.52941176e-02]\n",
      " ...\n",
      " [ 4.86194463e+02  5.07647565e+01  1.70819403e+02  1.01960784e-01\n",
      "   7.84313725e-02  7.84313725e-02]\n",
      " [ 3.17160601e+02  3.02135540e+02  1.85030785e+02  9.01960784e-02\n",
      "   5.88235294e-02  7.05882353e-02]\n",
      " [ 3.17160601e+02  3.02135540e+02  1.85030785e+02  9.01960784e-02\n",
      "   5.88235294e-02  7.05882353e-02]]\n",
      "[[-1.36432187e+02 -1.09666454e+02 -2.33217510e+02  1.80392157e-01\n",
      "   1.37254902e-01  1.29411765e-01]\n",
      " [-1.03227718e+02 -1.32842751e+02  2.76880705e+02  4.62745098e-01\n",
      "   2.82352941e-01  1.37254902e-01]\n",
      " [-1.72077700e+01 -8.68552552e+01  1.97507708e+02  7.68627451e-01\n",
      "   5.52941176e-01  2.47058824e-01]\n",
      " ...\n",
      " [-5.15373186e+02 -7.44632074e+01 -3.12195294e+01  8.50980392e-01\n",
      "   8.78431373e-01  8.86274510e-01]\n",
      " [-5.15373186e+02 -7.44632074e+01 -3.12195268e+01  8.50980392e-01\n",
      "   8.78431373e-01  8.86274510e-01]\n",
      " [-2.76343787e+02 -2.86391570e+02  1.62180016e+02  7.84313725e-02\n",
      "   8.23529412e-02  9.01960784e-02]]\n",
      "[[-1.16504643e+02 -5.58470637e+01 -5.92465764e+01  7.76470588e-01\n",
      "   6.62745098e-01  5.21568627e-01]\n",
      " [ 1.40534663e+02  3.76620042e+02 -2.26940399e+02  3.17647059e-01\n",
      "   3.17647059e-01  3.13725490e-01]\n",
      " [ 1.27369042e+02  3.84489314e+02 -2.16111980e+02  2.86274510e-01\n",
      "   2.54901961e-01  2.43137255e-01]\n",
      " ...\n",
      " [ 2.90495415e+02  1.28666714e+02 -1.90116724e+02  3.49019608e-01\n",
      "   3.01960784e-01  2.70588235e-01]\n",
      " [ 2.90495415e+02  1.28666714e+02 -1.90116724e+02  3.49019608e-01\n",
      "   3.01960784e-01  2.70588235e-01]\n",
      " [ 2.94475087e+02  1.44483274e+02 -2.24951260e+02  5.88235294e-02\n",
      "   5.09803922e-02  6.27450980e-02]]\n",
      "[[ 1.62406569e+02 -1.57592207e+02  2.93947549e+02  4.47058824e-01\n",
      "   4.31372549e-01  3.84313725e-01]\n",
      " [ 5.67744145e+01 -5.80662162e+01  5.83648506e+01  3.29411765e-01\n",
      "   3.64705882e-01  3.76470588e-01]\n",
      " [ 2.62166881e+02  5.99492574e+01  3.87208190e+02  4.35294118e-01\n",
      "   4.19607843e-01  3.76470588e-01]\n",
      " ...\n",
      " [-2.55200726e+02  1.29384352e+02 -3.05343063e+02  6.11764706e-01\n",
      "   5.88235294e-01  5.29411765e-01]\n",
      " [-2.55560881e+02  8.96041238e+01 -4.26924386e+02  6.98039216e-01\n",
      "   6.74509804e-01  6.00000000e-01]\n",
      " [-2.55560881e+02  8.96041238e+01 -4.26924386e+02  6.98039216e-01\n",
      "   6.74509804e-01  6.00000000e-01]]\n",
      "[[-1.16192489e+02  2.17457077e+02  1.38818126e+02  6.39215686e-01\n",
      "   4.43137255e-01  2.94117647e-01]\n",
      " [ 1.14495757e+02  1.83567175e+02  2.67798552e+02  7.60784314e-01\n",
      "   4.58823529e-01  2.74509804e-01]\n",
      " [ 3.26484232e+02  5.51384445e+01  2.42979219e+02  7.13725490e-01\n",
      "   6.23529412e-01  4.94117647e-01]\n",
      " ...\n",
      " [ 3.97508097e+02  2.19652789e+02  2.75058562e+02  7.33333333e-01\n",
      "   6.39215686e-01  5.29411765e-01]\n",
      " [ 3.97508097e+02  2.19652789e+02  2.75058562e+02  7.33333333e-01\n",
      "   6.39215686e-01  5.29411765e-01]\n",
      " [ 3.05163899e+02 -4.21851654e+02 -3.41227496e+02  4.15686275e-01\n",
      "   3.56862745e-01  3.17647059e-01]]\n",
      "[[ 1.74222537e+02 -4.95402938e+02  1.27317383e+02  7.41176471e-01\n",
      "   4.82352941e-01  2.58823529e-01]\n",
      " [-9.63705059e+01  2.54664192e+00  4.12539555e+01  4.62745098e-01\n",
      "   3.17647059e-01  2.15686275e-01]\n",
      " [ 4.14034210e+02 -1.29106124e+02 -1.32698891e+02  5.68627451e-01\n",
      "   4.50980392e-01  2.70588235e-01]\n",
      " ...\n",
      " [-3.01194763e+02  1.05867260e+02  1.54792256e+02  5.84313725e-01\n",
      "   3.49019608e-01  1.92156863e-01]\n",
      " [ 7.55079224e+01 -1.41257592e+02  2.23573262e+02  8.35294118e-01\n",
      "   6.11764706e-01  3.96078431e-01]\n",
      " [ 7.55079162e+01 -1.41257592e+02  2.23573262e+02  8.35294118e-01\n",
      "   6.11764706e-01  3.96078431e-01]]\n",
      "[[ 0.83981496 -1.1739575  -1.1800425   0.47843137  0.41568627  0.35294118]\n",
      " [ 0.84423351 -1.1734209  -1.1810129   0.52156863  0.47058824  0.40392157]\n",
      " [ 0.8566047  -1.1722555  -1.1823242   0.5254902   0.47058824  0.41568627]\n",
      " ...\n",
      " [-2.6062117  -0.69393909  1.1552396   0.23137255  0.23137255  0.22352941]\n",
      " [-2.6020527  -0.70757794  1.1675403   0.22745098  0.22745098  0.21960784]\n",
      " [-2.6036263  -0.69324756  1.1674632   0.23137255  0.23529412  0.22745098]]\n",
      "[[ 1.0492201  -0.90837109 -2.2386758   0.37647059  0.3254902   0.25490196]\n",
      " [ 1.0503786  -0.90723008 -2.2392793   0.37254902  0.32156863  0.24705882]\n",
      " [ 1.0405365  -0.88838196 -2.2384453   0.35294118  0.30980392  0.23921569]\n",
      " ...\n",
      " [-2.1904871   1.0244626   2.3942535   0.20392157  0.16470588  0.1254902 ]\n",
      " [-2.1919768   1.0279365   2.3978069   0.19607843  0.14901961  0.09411765]\n",
      " [-1.9562587   1.0777532   2.4363973   0.21568627  0.19607843  0.18039216]]\n",
      "[[-1.82741767 11.62058116  4.87958346  0.14509804  0.13333333  0.14509804]\n",
      " [-1.72829085 11.28803301  4.95338593  0.09803922  0.07843137  0.07843137]\n",
      " [-1.78683072 11.92403079  4.95324025  0.16078431  0.15294118  0.17647059]\n",
      " ...\n",
      " [ 8.68740672  0.14488173  8.67504058  0.15294118  0.13333333  0.12156863]\n",
      " [-3.04024773  3.35604716  3.17916141  0.16078431  0.12156863  0.10588235]\n",
      " [-4.00358277 -8.71774577  5.26131473  0.63921569  0.59607843  0.48627451]]\n",
      "[[-3.3477736  -0.4275983  -2.5265214   0.0627451   0.07843137  0.09019608]\n",
      " [-3.336216   -0.42326981 -2.5237622   0.05882353  0.06666667  0.08627451]\n",
      " [-3.3419509  -0.4628064  -2.5103908   0.08235294  0.08627451  0.10588235]\n",
      " ...\n",
      " [ 0.47484183 -1.3762735   3.7187002   0.38039216  0.31764706  0.22745098]\n",
      " [ 0.48232684 -1.3761854   3.7153325   0.38431373  0.32156863  0.23137255]\n",
      " [ 0.47786891 -1.36552     3.7142015   0.39215686  0.32941176  0.24705882]]\n",
      "[[-0.40574464 -0.46313828 -4.3008404   0.71764706  0.69411765  0.56862745]\n",
      " [-0.4111228  -0.46442899 -4.293962    0.72156863  0.69803922  0.57254902]\n",
      " [-0.40585405 -0.46543232 -4.2940373   0.71764706  0.69411765  0.56862745]\n",
      " ...\n",
      " [-2.365279    1.0959517   3.6828618   0.16470588  0.14901961  0.1372549 ]\n",
      " [-2.3563843   1.096629    3.6813755   0.16078431  0.14509804  0.13333333]\n",
      " [-2.3654284   1.1088599   3.6826067   0.15686275  0.14117647  0.12941176]]\n",
      "[[ 0.76323116  0.37098265 -2.3641372   0.89411765  0.85098039  0.73333333]\n",
      " [ 0.76146895  0.37435538 -2.3646176   0.89411765  0.85098039  0.7254902 ]\n",
      " [ 0.76174808  0.37915036 -2.3650572   0.89411765  0.85098039  0.7254902 ]\n",
      " ...\n",
      " [ 2.16382    -1.6251559   2.695086    0.46666667  0.36078431  0.24705882]\n",
      " [ 2.0243726  -1.4895887   2.6988997   0.38823529  0.3254902   0.22745098]\n",
      " [ 2.1544919  -1.6269537   2.7027376   0.48235294  0.38431373  0.26666667]]\n",
      "[[-0.95301008 -0.50165701 -3.0726347   0.09411765  0.10980392  0.13333333]\n",
      " [-0.94739002 -0.50006551 -3.0736983   0.09803922  0.10980392  0.1372549 ]\n",
      " [-0.95635188 -0.49635002 -3.075633    0.1254902   0.12941176  0.14509804]\n",
      " ...\n",
      " [-1.1833322  -0.61777925  2.9763653   0.32156863  0.30980392  0.28235294]\n",
      " [-1.1881552  -0.57851428  2.9777734   0.50196078  0.48627451  0.45098039]\n",
      " [-1.1867673  -0.57640976  2.9777451   0.52156863  0.48627451  0.45098039]]\n",
      "[[ 1.2159038  -0.6000278  -2.4311478   0.46666667  0.41568627  0.35294118]\n",
      " [ 1.2252429  -0.60281491 -2.4318233   0.4627451   0.41176471  0.34509804]\n",
      " [ 1.2280078  -0.59058738 -2.4319997   0.46666667  0.41568627  0.34901961]\n",
      " ...\n",
      " [-2.9024906   0.78637218  2.9602542   0.77254902  0.71764706  0.6       ]\n",
      " [-2.8930318   0.78721988  2.9614809   0.76862745  0.72156863  0.60784314]\n",
      " [-2.8590002   0.78701693  2.9764531   0.73333333  0.6745098   0.56078431]]\n",
      "[[-2.4713898  -1.0847729  -1.6562339   0.23137255  0.20392157  0.13333333]\n",
      " [-2.4596863  -1.1928909  -1.6459532   0.20784314  0.14901961  0.12156863]\n",
      " [-2.45469    -1.1124451  -1.6403548   0.21960784  0.17254902  0.1254902 ]\n",
      " ...\n",
      " [ 1.5030792  -0.14098667  1.6200001   0.36078431  0.30196078  0.21176471]\n",
      " [ 1.5623972  -0.14783362  1.62        0.36862745  0.30980392  0.23529412]\n",
      " [ 1.5636767  -0.1376197   1.62        0.35686275  0.30588235  0.23137255]]\n"
     ]
    }
   ],
   "source": [
    "# Print the arrays to check\n",
    "print(AllData_Aggelos)\n",
    "print(AllData_Yota)\n",
    "print(AllData_Aggela)\n",
    "print(AllData_Sofia)\n",
    "print(AllData_Antonis)\n",
    "print(AllData_Martins)\n",
    "print(AllData_Enricos)\n",
    "print(AllData_Polinikis)\n",
    "print(AllData_Alex)\n",
    "print(AllData_Pitts)\n",
    "print(AllData_Chryssas)\n",
    "print(AllData_Imke)\n",
    "print(AllData_AntonisB)\n",
    "print(AllData_George)\n",
    "print(AllData_Thanasis)\n",
    "print(AllData_Vasilis)\n",
    "print(AllData_GeorgeB)\n",
    "print(AllData_Iliana)\n",
    "print(AllData_Apostolis)\n",
    "print(AllData_Dimitris)"
   ]
  },
  {
   "cell_type": "code",
   "execution_count": 56,
   "metadata": {},
   "outputs": [],
   "source": [
    "# Flatten Room Arrays\n",
    "Aggelos_room_flat = AllData_Aggelos.flatten()\n",
    "Yotas_room_flat = AllData_Yota.flatten()\n",
    "Aggelas_room_flat = AllData_Aggela.flatten()\n",
    "Sofias_room_flat = AllData_Sofia.flatten()\n",
    "Antonis_room_flat = AllData_Antonis.flatten()\n",
    "Martins_room_flat = AllData_Martins.flatten()\n",
    "Enricos_room_flat = AllData_Enricos.flatten()\n",
    "Polinikis_room_flat = AllData_Polinikis.flatten()\n",
    "Alex_room_flat = AllData_Alex.flatten()\n",
    "Pitts_room_flat = AllData_Pitts.flatten()\n",
    "Chryssas_room_flat = AllData_Chryssas.flatten()\n",
    "Imke_room_flat = AllData_Imke.flatten()\n",
    "AntonisB_room_flat = AllData_AntonisB.flatten()\n",
    "George_room_flat = AllData_George.flatten()\n",
    "Thanasis_room_flat = AllData_Thanasis.flatten()\n",
    "Vasilis_room_flat = AllData_Vasilis.flatten()\n",
    "GeorgeB_room_flat = AllData_GeorgeB.flatten()\n",
    "Iliana_room_flat = AllData_Iliana.flatten()\n",
    "Apostolis_room_flat = AllData_Apostolis.flatten()\n",
    "Dimitris_room_flat = AllData_Dimitris.flatten()"
   ]
  },
  {
   "cell_type": "code",
   "execution_count": 57,
   "metadata": {},
   "outputs": [
    {
     "name": "stdout",
     "output_type": "stream",
     "text": [
      "[0.14369095 0.27575598 0.00694855 ... 0.59607843 0.77254902 0.85490196]\n",
      "[-4.0773051  -2.66569827 28.25123827 ...  0.04705882  0.03921569\n",
      "  0.05882353]\n",
      "[-15.51712534   5.59101887   5.42803144 ...   0.25882353   0.4\n",
      "   0.58039216]\n",
      "[ 1.78513962 -3.10955271  8.04747852 ...  0.28627451  0.27058824\n",
      "  0.27843137]\n",
      "[  6.04506213 -18.14989406  26.96538918 ...   0.63137255   0.6745098\n",
      "   0.65098039]\n",
      "[-4.04253656e+02  3.53340335e+02  1.04673324e+02 ...  9.01960784e-02\n",
      "  5.88235294e-02  7.05882353e-02]\n",
      "[-1.36432187e+02 -1.09666454e+02 -2.33217510e+02 ...  7.84313725e-02\n",
      "  8.23529412e-02  9.01960784e-02]\n",
      "[-1.16504643e+02 -5.58470637e+01 -5.92465764e+01 ...  5.88235294e-02\n",
      "  5.09803922e-02  6.27450980e-02]\n",
      "[ 162.40656866 -157.59220678  293.94754939 ...    0.69803922    0.6745098\n",
      "    0.6       ]\n",
      "[-116.19248852  217.45707744  138.81812575 ...    0.41568627    0.35686275\n",
      "    0.31764706]\n",
      "[ 1.74222537e+02 -4.95402938e+02  1.27317383e+02 ...  8.35294118e-01\n",
      "  6.11764706e-01  3.96078431e-01]\n",
      "[ 0.83981496 -1.1739575  -1.1800425  ...  0.23137255  0.23529412\n",
      "  0.22745098]\n",
      "[ 1.0492201  -0.90837109 -2.2386758  ...  0.21568627  0.19607843\n",
      "  0.18039216]\n",
      "[-1.82741767 11.62058116  4.87958346 ...  0.63921569  0.59607843\n",
      "  0.48627451]\n",
      "[-3.3477736  -0.4275983  -2.5265214  ...  0.39215686  0.32941176\n",
      "  0.24705882]\n",
      "[-0.40574464 -0.46313828 -4.3008404  ...  0.15686275  0.14117647\n",
      "  0.12941176]\n",
      "[ 0.76323116  0.37098265 -2.3641372  ...  0.48235294  0.38431373\n",
      "  0.26666667]\n",
      "[-0.95301008 -0.50165701 -3.0726347  ...  0.52156863  0.48627451\n",
      "  0.45098039]\n",
      "[ 1.2159038  -0.6000278  -2.4311478  ...  0.73333333  0.6745098\n",
      "  0.56078431]\n",
      "[-2.4713898  -1.0847729  -1.6562339  ...  0.35686275  0.30588235\n",
      "  0.23137255]\n"
     ]
    }
   ],
   "source": [
    "# Print to check\n",
    "print(Aggelos_room_flat)\n",
    "print(Yotas_room_flat)\n",
    "print(Aggelas_room_flat)\n",
    "print(Sofias_room_flat)\n",
    "print(Antonis_room_flat)\n",
    "print(Martins_room_flat)\n",
    "print(Enricos_room_flat)\n",
    "print(Polinikis_room_flat)\n",
    "print(Alex_room_flat)\n",
    "print(Pitts_room_flat)\n",
    "print(Chryssas_room_flat)\n",
    "print(Imke_room_flat)\n",
    "print(AntonisB_room_flat)\n",
    "print(George_room_flat)\n",
    "print(Thanasis_room_flat)\n",
    "print(Vasilis_room_flat)\n",
    "print(GeorgeB_room_flat)\n",
    "print(Iliana_room_flat)\n",
    "print(Apostolis_room_flat)\n",
    "print(Dimitris_room_flat)"
   ]
  },
  {
   "cell_type": "code",
   "execution_count": 45,
   "metadata": {},
   "outputs": [
    {
     "name": "stdout",
     "output_type": "stream",
     "text": [
      "geometry::PointCloud with 2166418 points.\n",
      "[[-0.07431842 -0.10677869  0.36774745]\n",
      " [ 0.10347948  0.00101892 -0.40462046]\n",
      " [-0.43060547  0.17573351  0.12457742]\n",
      " ...\n",
      " [ 0.10442832  0.02976425 -0.43220368]\n",
      " [ 0.30693084  0.2826251  -0.30152286]\n",
      " [ 0.09400045 -0.07730379 -0.45840729]]\n"
     ]
    }
   ],
   "source": [
    "# Downsample the point cloud with a voxel of 0.001\n",
    "downpcd_Aggelos = pcd_Aggelos.voxel_down_sample(voxel_size=0.001)\n",
    "\n",
    "# print downsized array\n",
    "print(downpcd_Aggelos)\n",
    "print(np.asarray(downpcd_Aggelos.points))\n",
    "\n",
    "#visualize the downsized pointcloud\n",
    "o3d.visualization.draw_geometries([downpcd_Aggelos])"
   ]
  },
  {
   "cell_type": "code",
   "execution_count": null,
   "metadata": {},
   "outputs": [],
   "source": [
    "#Repeat process with all pointclouds"
   ]
  },
  {
   "cell_type": "code",
   "execution_count": 11,
   "metadata": {},
   "outputs": [
    {
     "name": "stdout",
     "output_type": "stream",
     "text": [
      "geometry::PointCloud with 210459 points.\n",
      "[[ 11.08882883   8.27837153  13.31432866]\n",
      " [ -7.90774891  -3.45281367  16.12153768]\n",
      " [-17.0062649    2.90368219   0.53948115]\n",
      " ...\n",
      " [  9.78861692   8.02452488  10.14053088]\n",
      " [  9.8593767    8.02887936  10.14402675]\n",
      " [ -1.17124567  -7.91593628  14.36447047]]\n"
     ]
    }
   ],
   "source": [
    "downpcd_Aggela = pcd_Aggela.voxel_down_sample(voxel_size=0.001)\n",
    "\n",
    "print(downpcd_Aggela)\n",
    "print(np.asarray(downpcd_Aggela.points))\n",
    "\n",
    "o3d.visualization.draw_geometries([downpcd_Aggela])"
   ]
  },
  {
   "cell_type": "code",
   "execution_count": 59,
   "metadata": {},
   "outputs": [
    {
     "name": "stdout",
     "output_type": "stream",
     "text": [
      "geometry::PointCloud with 812373 points.\n",
      "[[-1.29220833  8.37332418 25.55955307]\n",
      " [ 0.52204181  2.82083179 25.00154846]\n",
      " [-1.8542793   3.63892724 25.33644693]\n",
      " ...\n",
      " [ 2.92846892 -3.37605951 28.61791556]\n",
      " [ 3.15025185 -2.01338861 27.52441828]\n",
      " [-0.25959845 -1.64616011 27.7417187 ]]\n"
     ]
    }
   ],
   "source": [
    "downpcd_Yota = pcd_Yota.voxel_down_sample(voxel_size=0.001)\n",
    "\n",
    "print(downpcd_Yota)\n",
    "print(np.asarray(downpcd_Yota.points))\n",
    "\n",
    "o3d.visualization.draw_geometries([downpcd_Yota])"
   ]
  },
  {
   "cell_type": "code",
   "execution_count": 71,
   "metadata": {},
   "outputs": [
    {
     "name": "stdout",
     "output_type": "stream",
     "text": [
      "geometry::PointCloud with 50343 points.\n",
      "[[ 0.49285199 -1.94313443  8.11999449]\n",
      " [-1.35074025 -6.36738071 13.36037704]\n",
      " [-3.72173243 -3.41753253 10.62897762]\n",
      " ...\n",
      " [ 1.2522508   1.4680821   7.29716607]\n",
      " [ 2.56781811  2.68076792  5.7081556 ]\n",
      " [ 1.54538078  2.59436455  5.97719284]]\n"
     ]
    }
   ],
   "source": [
    "downpcd_Sofia = pcd_Sofia.voxel_down_sample(voxel_size=0.001)\n",
    "\n",
    "print(downpcd_Sofia)\n",
    "print(np.asarray(downpcd_Sofia.points))\n",
    "\n",
    "o3d.visualization.draw_geometries([downpcd_Sofia])"
   ]
  },
  {
   "cell_type": "code",
   "execution_count": 49,
   "metadata": {},
   "outputs": [
    {
     "name": "stdout",
     "output_type": "stream",
     "text": [
      "geometry::PointCloud with 6627989 points.\n",
      "[[-12.19267316  -2.1937554   13.97870362]\n",
      " [ -5.14491728  -5.95505644  13.63470543]\n",
      " [-12.70323053  -5.46721768  16.75239444]\n",
      " ...\n",
      " [-10.48874893  10.80612961  20.08046615]\n",
      " [ -6.14846866  -0.93478322  12.36669955]\n",
      " [-10.49241357  10.81350839  20.08372102]]\n"
     ]
    }
   ],
   "source": [
    "downpcd_Antonis = pcd_Antonis.voxel_down_sample(voxel_size=0.001)\n",
    "\n",
    "print(downpcd_Antonis)\n",
    "print(np.asarray(downpcd_Antonis.points))\n",
    "\n",
    "o3d.visualization.draw_geometries([downpcd_Antonis])"
   ]
  },
  {
   "cell_type": "code",
   "execution_count": 72,
   "metadata": {},
   "outputs": [
    {
     "name": "stdout",
     "output_type": "stream",
     "text": [
      "geometry::PointCloud with 1999993 points.\n",
      "[[ 344.28868672  138.11344567   26.47527325]\n",
      " [ -32.45943837 -154.99945466  255.4351051 ]\n",
      " [-309.2315194   326.7858087   146.19213199]\n",
      " ...\n",
      " [-149.813259     93.30712577   43.89775664]\n",
      " [-324.03750061  -25.21861272   42.8737709 ]\n",
      " [ 317.16060104  302.13553974  185.03078472]]\n"
     ]
    }
   ],
   "source": [
    "downpcd_Martins = pcd_Martins.voxel_down_sample(voxel_size=0.001)\n",
    "\n",
    "print(downpcd_Martins)\n",
    "print(np.asarray(downpcd_Martins.points))\n",
    "\n",
    "o3d.visualization.draw_geometries([downpcd_Martins])"
   ]
  },
  {
   "cell_type": "code",
   "execution_count": 51,
   "metadata": {},
   "outputs": [
    {
     "name": "stdout",
     "output_type": "stream",
     "text": [
      "geometry::PointCloud with 1999993 points.\n",
      "[[  92.64576659   89.59316216   85.7675043 ]\n",
      " [-430.58015186 -102.52747989  171.70986534]\n",
      " [  27.61363537   68.72141324  243.35926408]\n",
      " ...\n",
      " [-232.04146966 -185.64685669  -28.30451257]\n",
      " [-132.42271784 -157.86939918 -232.95823203]\n",
      " [-515.37318583  -74.46320742  -31.21952812]]\n"
     ]
    }
   ],
   "source": [
    "downpcd_Enricos = pcd_Enricos.voxel_down_sample(voxel_size=0.001)\n",
    "\n",
    "print(downpcd_Enricos)\n",
    "print(np.asarray(downpcd_Enricos.points))\n",
    "\n",
    "o3d.visualization.draw_geometries([downpcd_Enricos])"
   ]
  },
  {
   "cell_type": "code",
   "execution_count": 74,
   "metadata": {},
   "outputs": [
    {
     "name": "stdout",
     "output_type": "stream",
     "text": [
      "geometry::PointCloud with 1999993 points.\n",
      "[[ -58.81096534 -285.95388508   49.11477847]\n",
      " [  -4.71606653 -145.01632973  -58.21370485]\n",
      " [ 261.82528019  242.42174594 -353.51631226]\n",
      " ...\n",
      " [  98.56993578  -87.27895213 -248.16841054]\n",
      " [ -81.30652282 -188.51414407  168.95929317]\n",
      " [ 136.21156763 -252.97786548  193.48576163]]\n"
     ]
    }
   ],
   "source": [
    "downpcd_Polinikis = pcd_Polinikis.voxel_down_sample(voxel_size=0.001)\n",
    "\n",
    "print(downpcd_Polinikis)\n",
    "print(np.asarray(downpcd_Polinikis.points))\n",
    "\n",
    "o3d.visualization.draw_geometries([downpcd_Polinikis])"
   ]
  },
  {
   "cell_type": "code",
   "execution_count": 13,
   "metadata": {},
   "outputs": [
    {
     "name": "stdout",
     "output_type": "stream",
     "text": [
      "geometry::PointCloud with 1999986 points.\n",
      "[[  62.22512963 -190.17721991 -163.94287394]\n",
      " [ -72.14930857  -46.97904519 -407.74119291]\n",
      " [ 128.29410481  124.57332531  450.76742714]\n",
      " ...\n",
      " [ 106.77882996  271.17992373  374.77904061]\n",
      " [ 107.61890411  269.16251923  373.01196103]\n",
      " [ 131.15588872  261.27423865  387.05687589]]\n"
     ]
    }
   ],
   "source": [
    "downpcd_Alex = pcd_Alex.voxel_down_sample(voxel_size=0.001)\n",
    "\n",
    "print(downpcd_Alex)\n",
    "print(np.asarray(downpcd_Alex.points))\n",
    "\n",
    "o3d.visualization.draw_geometries([downpcd_Alex])"
   ]
  },
  {
   "cell_type": "code",
   "execution_count": 54,
   "metadata": {},
   "outputs": [
    {
     "name": "stdout",
     "output_type": "stream",
     "text": [
      "geometry::PointCloud with 1999996 points.\n",
      "[[-142.35684166  276.50941748  -11.33061406]\n",
      " [ -12.71995885  329.16830715  120.93712539]\n",
      " [-211.59034398 -105.74616698 -288.2166268 ]\n",
      " ...\n",
      " [ -36.51936987  104.0540684   217.11658601]\n",
      " [   9.45894948  -40.42397783  233.53313306]\n",
      " [ 425.22109672  168.78757932  180.52363426]]\n"
     ]
    }
   ],
   "source": [
    "downpcd_Pitts = pcd_Pitts.voxel_down_sample(voxel_size=0.001)\n",
    "\n",
    "print(downpcd_Pitts)\n",
    "print(np.asarray(downpcd_Pitts.points))\n",
    "\n",
    "o3d.visualization.draw_geometries([downpcd_Pitts])"
   ]
  },
  {
   "cell_type": "code",
   "execution_count": 76,
   "metadata": {},
   "outputs": [
    {
     "name": "stdout",
     "output_type": "stream",
     "text": [
      "geometry::PointCloud with 1999989 points.\n",
      "[[ 443.78289834 -262.63099435  144.06045609]\n",
      " [ 383.24614422  -17.30552528 -138.41525421]\n",
      " [ 396.82603393 -119.90151568 -171.87691585]\n",
      " ...\n",
      " [ 357.22415279 -433.40246713  210.95005832]\n",
      " [ 236.88494528  377.44924719 -158.55282264]\n",
      " [-487.23664119  187.58806293   43.36572564]]\n"
     ]
    }
   ],
   "source": [
    "downpcd_Chryssas = pcd_Chryssas.voxel_down_sample(voxel_size=0.001)\n",
    "\n",
    "print(downpcd_Chryssas)\n",
    "print(np.asarray(downpcd_Chryssas.points))\n",
    "\n",
    "o3d.visualization.draw_geometries([downpcd_Chryssas])"
   ]
  },
  {
   "cell_type": "code",
   "execution_count": 56,
   "metadata": {},
   "outputs": [
    {
     "name": "stdout",
     "output_type": "stream",
     "text": [
      "geometry::PointCloud with 450418 points.\n",
      "[[ 1.1466156  -0.62329292 -1.1332662 ]\n",
      " [ 2.3028386   0.45152381 -1.0607387 ]\n",
      " [ 0.13647798 -0.0230135  -1.1409438 ]\n",
      " ...\n",
      " [-2.2192576   0.03274741  1.1444676 ]\n",
      " [-2.6016166  -0.72164834  1.1502122 ]\n",
      " [-2.6019032  -0.71828294  1.1538575 ]]\n"
     ]
    }
   ],
   "source": [
    "downpcd_Imke = pcd_Imke.voxel_down_sample(voxel_size=0.001)\n",
    "\n",
    "print(downpcd_Imke)\n",
    "print(np.asarray(downpcd_Imke.points))\n",
    "\n",
    "o3d.visualization.draw_geometries([downpcd_Imke])"
   ]
  },
  {
   "cell_type": "code",
   "execution_count": 88,
   "metadata": {},
   "outputs": [
    {
     "name": "stdout",
     "output_type": "stream",
     "text": [
      "geometry::PointCloud with 1315420 points.\n",
      "[[ 0.38361928  1.3265069   1.0592275 ]\n",
      " [ 0.85474283 -1.2641331  -0.6438517 ]\n",
      " [-0.52667409  1.0131226  -1.9914881 ]\n",
      " ...\n",
      " [-2.2301452   1.046337    2.37901   ]\n",
      " [-2.2363017   1.0523163   2.378509  ]\n",
      " [-2.1949704   1.0278404   2.38586   ]]\n"
     ]
    }
   ],
   "source": [
    "downpcd_AntonisB = pcd_AntonisB.voxel_down_sample(voxel_size=0.001)\n",
    "\n",
    "print(downpcd_AntonisB)\n",
    "print(np.asarray(downpcd_AntonisB.points))\n",
    "\n",
    "o3d.visualization.draw_geometries([downpcd_AntonisB])"
   ]
  },
  {
   "cell_type": "code",
   "execution_count": 58,
   "metadata": {},
   "outputs": [
    {
     "name": "stdout",
     "output_type": "stream",
     "text": [
      "geometry::PointCloud with 1009048 points.\n",
      "[[ 3.63039911 17.81873751  5.35778246]\n",
      " [ 7.74122972 -3.10077917  7.46896416]\n",
      " [-1.5856598   1.33489848  3.40645061]\n",
      " ...\n",
      " [ 3.95763034  6.93966342  2.42786346]\n",
      " [-3.57899838 -0.77862024  4.98215852]\n",
      " [ 7.12302179 -2.89473605  5.47169552]]\n"
     ]
    }
   ],
   "source": [
    "downpcd_George = pcd_George.voxel_down_sample(voxel_size=0.001)\n",
    "\n",
    "print(downpcd_George)\n",
    "print(np.asarray(downpcd_George.points))\n",
    "\n",
    "o3d.visualization.draw_geometries([downpcd_George])"
   ]
  },
  {
   "cell_type": "code",
   "execution_count": 78,
   "metadata": {},
   "outputs": [
    {
     "name": "stdout",
     "output_type": "stream",
     "text": [
      "geometry::PointCloud with 633901 points.\n",
      "[[ 2.0976362   1.301674   -0.69642347]\n",
      " [-3.348881   -0.43123034 -2.496814  ]\n",
      " [-0.73591638  0.13317327 -2.3186965 ]\n",
      " ...\n",
      " [ 0.47484183 -1.3762735   3.7187002 ]\n",
      " [ 0.48232684 -1.3761854   3.7153325 ]\n",
      " [ 0.47786891 -1.36552     3.7142015 ]]\n"
     ]
    }
   ],
   "source": [
    "downpcd_Thanasis = pcd_Thanasis.voxel_down_sample(voxel_size=0.001)\n",
    "\n",
    "print(downpcd_Thanasis)\n",
    "print(np.asarray(downpcd_Thanasis.points))\n",
    "\n",
    "o3d.visualization.draw_geometries([downpcd_Thanasis])"
   ]
  },
  {
   "cell_type": "code",
   "execution_count": 87,
   "metadata": {},
   "outputs": [
    {
     "name": "stdout",
     "output_type": "stream",
     "text": [
      "geometry::PointCloud with 703678 points.\n",
      "[[ 2.5656233  -0.50891101 -1.7418742 ]\n",
      " [ 1.1754842  -1.1813668  -2.4551232 ]\n",
      " [ 0.94377464 -0.58484781 -3.496294  ]\n",
      " ...\n",
      " [-2.3732431   1.0662644   3.6813319 ]\n",
      " [-2.3725734   1.0924165   3.6820829 ]\n",
      " [-2.3563843   1.096629    3.6813755 ]]\n"
     ]
    }
   ],
   "source": [
    "downpcd_Vasilis = pcd_Vasilis.voxel_down_sample(voxel_size=0.001)\n",
    "\n",
    "print(downpcd_Vasilis)\n",
    "print(np.asarray(downpcd_Vasilis.points))\n",
    "\n",
    "o3d.visualization.draw_geometries([downpcd_Vasilis])"
   ]
  },
  {
   "cell_type": "code",
   "execution_count": 86,
   "metadata": {},
   "outputs": [
    {
     "name": "stdout",
     "output_type": "stream",
     "text": [
      "geometry::PointCloud with 1335369 points.\n",
      "[[ 0.26392066 -0.21103472 -1.3954921 ]\n",
      " [ 1.6484473   1.0483599  -1.6162543 ]\n",
      " [ 0.4066456  -1.2631767  -1.4004011 ]\n",
      " ...\n",
      " [ 2.16382    -1.6251559   2.695086  ]\n",
      " [ 2.0243726  -1.4895887   2.6988997 ]\n",
      " [ 2.1544919  -1.6269537   2.7027376 ]]\n"
     ]
    }
   ],
   "source": [
    "downpcd_GeorgeB = pcd_GeorgeB.voxel_down_sample(voxel_size=0.001)\n",
    "\n",
    "print(downpcd_GeorgeB)\n",
    "print(np.asarray(downpcd_GeorgeB.points))\n",
    "\n",
    "o3d.visualization.draw_geometries([downpcd_GeorgeB])"
   ]
  },
  {
   "cell_type": "code",
   "execution_count": 80,
   "metadata": {},
   "outputs": [
    {
     "name": "stdout",
     "output_type": "stream",
     "text": [
      "geometry::PointCloud with 1100691 points.\n",
      "[[-0.72328073  0.27156156  0.19814721]\n",
      " [ 1.5850964   1.2819999   0.98725504]\n",
      " [-0.70457482 -0.67972791 -3.0158811 ]\n",
      " ...\n",
      " [-1.1828569  -0.65278828  2.9774127 ]\n",
      " [-1.1820458  -0.62803257  2.9771152 ]\n",
      " [-1.1833322  -0.61777925  2.9763653 ]]\n"
     ]
    }
   ],
   "source": [
    "downpcd_Iliana = pcd_Iliana.voxel_down_sample(voxel_size=0.001)\n",
    "\n",
    "print(downpcd_Iliana)\n",
    "print(np.asarray(downpcd_Iliana.points))\n",
    "\n",
    "o3d.visualization.draw_geometries([downpcd_Iliana])"
   ]
  },
  {
   "cell_type": "code",
   "execution_count": 83,
   "metadata": {},
   "outputs": [
    {
     "name": "stdout",
     "output_type": "stream",
     "text": [
      "geometry::PointCloud with 606053 points.\n",
      "[[-0.33394557 -0.46671814 -1.7248433 ]\n",
      " [ 1.3513329  -0.10821474 -2.2807043 ]\n",
      " [ 2.2509227   1.1516681  -0.55072552]\n",
      " ...\n",
      " [-2.8876524   0.7907722   2.9546716 ]\n",
      " [-2.9062641   0.77652061  2.9606903 ]\n",
      " [-2.8590002   0.78701693  2.9764531 ]]\n"
     ]
    }
   ],
   "source": [
    "downpcd_Apostolis = pcd_Apostolis.voxel_down_sample(voxel_size=0.001)\n",
    "\n",
    "print(downpcd_Apostolis)\n",
    "print(np.asarray(downpcd_Apostolis.points))\n",
    "\n",
    "o3d.visualization.draw_geometries([downpcd_Apostolis])"
   ]
  },
  {
   "cell_type": "code",
   "execution_count": 64,
   "metadata": {},
   "outputs": [
    {
     "name": "stdout",
     "output_type": "stream",
     "text": [
      "geometry::PointCloud with 449517 points.\n",
      "[[ 1.7514277  -0.18193938  1.3061968 ]\n",
      " [ 1.3381009   0.13992472 -0.76552886]\n",
      " [-1.4290203  -1.263606    0.18943812]\n",
      " ...\n",
      " [ 1.5046792  -0.16282986  1.6200486 ]\n",
      " [ 1.5647143  -0.16833083  1.6200001 ]\n",
      " [ 1.5636767  -0.1376197   1.62      ]]\n"
     ]
    }
   ],
   "source": [
    "downpcd_Dimitris = pcd_Dimitris.voxel_down_sample(voxel_size=0.001)\n",
    "\n",
    "print(downpcd_Dimitris)\n",
    "print(np.asarray(downpcd_Dimitris.points))\n",
    "\n",
    "o3d.visualization.draw_geometries([downpcd_Dimitris])"
   ]
  },
  {
   "cell_type": "code",
   "execution_count": 65,
   "metadata": {},
   "outputs": [
    {
     "name": "stdout",
     "output_type": "stream",
     "text": [
      "(52252494,)\n",
      "(4877100,)\n",
      "(1262874,)\n",
      "(302058,)\n",
      "(39767940,)\n",
      "(11999982,)\n",
      "(11999988,)\n",
      "(12000012,)\n",
      "(11999952,)\n",
      "(12000018,)\n",
      "(11999982,)\n",
      "(2702730,)\n",
      "(7895874,)\n",
      "(6073512,)\n",
      "(3803682,)\n",
      "(4222410,)\n",
      "(8018202,)\n",
      "(6606900,)\n",
      "(3636750,)\n",
      "(2697252,)\n"
     ]
    }
   ],
   "source": [
    "# Check the shape Array\n",
    "print(Aggelos_room_flat.shape)\n",
    "print(Yotas_room_flat.shape)\n",
    "print(Aggelas_room_flat.shape)\n",
    "print(Sofias_room_flat.shape)\n",
    "print(Antonis_room_flat.shape)\n",
    "print(Martins_room_flat.shape)\n",
    "print(Enricos_room_flat.shape)\n",
    "print(Polinikis_room_flat.shape)\n",
    "print(Alex_room_flat.shape)\n",
    "print(Pitts_room_flat.shape)\n",
    "print(Chryssas_room_flat.shape)\n",
    "print(Imke_room_flat.shape)\n",
    "print(AntonisB_room_flat.shape)\n",
    "print(George_room_flat.shape)\n",
    "print(Thanasis_room_flat.shape)\n",
    "print(Vasilis_room_flat.shape)\n",
    "print(GeorgeB_room_flat.shape)\n",
    "print(Iliana_room_flat.shape)\n",
    "print(Apostolis_room_flat.shape)\n",
    "print(Dimitris_room_flat.shape)"
   ]
  },
  {
   "cell_type": "code",
   "execution_count": 66,
   "metadata": {},
   "outputs": [],
   "source": [
    "# Read the dataFrame of each array\n",
    "df_Aggelos = pd.DataFrame(Aggelos_room_flat)\n",
    "df_Yota = pd.DataFrame(Yotas_room_flat)\n",
    "df_Aggela = pd.DataFrame(Aggelas_room_flat)\n",
    "df_Sofia = pd.DataFrame(Sofias_room_flat)\n",
    "df_Antonis = pd.DataFrame(Antonis_room_flat)\n",
    "df_Martins = pd.DataFrame(Martins_room_flat)\n",
    "df_Enricos = pd.DataFrame(Enricos_room_flat)\n",
    "df_Polinikis = pd.DataFrame(Polinikis_room_flat)\n",
    "df_Alex = pd.DataFrame(Alex_room_flat)\n",
    "df_Pitts = pd.DataFrame(Pitts_room_flat)\n",
    "df_Chryssas = pd.DataFrame(Chryssas_room_flat)\n",
    "df_Imke = pd.DataFrame(Imke_room_flat)\n",
    "df_AntonisB = pd.DataFrame(AntonisB_room_flat)\n",
    "df_George = pd.DataFrame(George_room_flat)\n",
    "df_Thanasis = pd.DataFrame(Thanasis_room_flat)\n",
    "df_Vasilis = pd.DataFrame(Vasilis_room_flat)\n",
    "df_GeorgeB = pd.DataFrame(GeorgeB_room_flat)\n",
    "df_Iliana = pd.DataFrame(Iliana_room_flat)\n",
    "df_Apostolis = pd.DataFrame(Apostolis_room_flat)\n",
    "df_Dimitris = pd.DataFrame(Dimitris_room_flat)"
   ]
  },
  {
   "cell_type": "code",
   "execution_count": null,
   "metadata": {},
   "outputs": [],
   "source": [
    "#Use padding technique so that all arrays have ta same size"
   ]
  },
  {
   "cell_type": "code",
   "execution_count": 67,
   "metadata": {},
   "outputs": [
    {
     "name": "stdout",
     "output_type": "stream",
     "text": [
      "[1.3589272 1.3589272 1.3589272 ... 1.3589272 1.3589272 1.3589272]\n",
      "(52252494,)\n"
     ]
    }
   ],
   "source": [
    "paddingCells_Aggelas= ((52252498-1262874)//2)-2\n",
    "paddingAggela=np.pad(Aggelas_room_flat, (paddingCells_Aggelas,), 'mean')\n",
    "\n",
    "print(paddingAggela)\n",
    "print(paddingAggela.shape)"
   ]
  },
  {
   "cell_type": "code",
   "execution_count": 68,
   "metadata": {},
   "outputs": [
    {
     "name": "stdout",
     "output_type": "stream",
     "text": [
      "[3.96288038 3.96288038 3.96288038 ... 3.96288038 3.96288038 3.96288038]\n",
      "(52252494,)\n"
     ]
    }
   ],
   "source": [
    "paddingCells_Yota= ((52252498-4877100)//2)-2\n",
    "paddingYota=np.pad(Yotas_room_flat, (paddingCells_Yota,), 'mean')\n",
    "\n",
    "print(paddingYota)\n",
    "print(paddingYota.shape)"
   ]
  },
  {
   "cell_type": "code",
   "execution_count": 69,
   "metadata": {},
   "outputs": [
    {
     "name": "stdout",
     "output_type": "stream",
     "text": [
      "[1.54718067 1.54718067 1.54718067 ... 1.54718067 1.54718067 1.54718067]\n",
      "(52252494,)\n"
     ]
    }
   ],
   "source": [
    "paddingCells_Sofia= ((52252498-302058)//2)-2\n",
    "paddingSofia=np.pad(Sofias_room_flat, (paddingCells_Sofia,), 'mean')\n",
    "\n",
    "print(paddingSofia)\n",
    "print(paddingSofia.shape)"
   ]
  },
  {
   "cell_type": "code",
   "execution_count": 70,
   "metadata": {},
   "outputs": [
    {
     "name": "stdout",
     "output_type": "stream",
     "text": [
      "[2.44878959 2.44878959 2.44878959 ... 2.44878959 2.44878959 2.44878959]\n",
      "(52252494,)\n"
     ]
    }
   ],
   "source": [
    "paddingCells_Antonis= ((52252498-39767940)//2)-2\n",
    "paddingAntonis=np.pad(Antonis_room_flat, (paddingCells_Antonis,), 'mean')\n",
    "\n",
    "print(paddingAntonis)\n",
    "print(paddingAntonis.shape)"
   ]
  },
  {
   "cell_type": "code",
   "execution_count": 71,
   "metadata": {},
   "outputs": [
    {
     "name": "stdout",
     "output_type": "stream",
     "text": [
      "[0.15725794 0.15725794 0.15725794 ... 0.15725794 0.15725794 0.15725794]\n",
      "(52252494,)\n"
     ]
    }
   ],
   "source": [
    "paddingCells_Martins= ((52252498-11999988)//2)+1\n",
    "paddingMartins=np.pad(Martins_room_flat, (paddingCells_Martins,), 'mean')\n",
    "\n",
    "print(paddingMartins)\n",
    "print(paddingMartins.shape)"
   ]
  },
  {
   "cell_type": "code",
   "execution_count": 72,
   "metadata": {},
   "outputs": [
    {
     "name": "stdout",
     "output_type": "stream",
     "text": [
      "[0.22155666 0.22155666 0.22155666 ... 0.22155666 0.22155666 0.22155666]\n",
      "(52252494,)\n"
     ]
    }
   ],
   "source": [
    "paddingCells_Enricos= ((52252498-11999988)//2)-2\n",
    "paddingEnricos=np.pad(Enricos_room_flat, (paddingCells_Enricos,), 'mean')\n",
    "\n",
    "print(paddingEnricos)\n",
    "print(paddingEnricos.shape)"
   ]
  },
  {
   "cell_type": "code",
   "execution_count": 73,
   "metadata": {},
   "outputs": [
    {
     "name": "stdout",
     "output_type": "stream",
     "text": [
      "[0.19233964 0.19233964 0.19233964 ... 0.19233964 0.19233964 0.19233964]\n",
      "(52252494,)\n"
     ]
    }
   ],
   "source": [
    "paddingCells_Polinikis= ((52252498-12000012)//2)-2\n",
    "paddingPolinikis=np.pad(Polinikis_room_flat, (paddingCells_Polinikis,), 'mean')\n",
    "\n",
    "print(paddingPolinikis)\n",
    "print(paddingPolinikis.shape)"
   ]
  },
  {
   "cell_type": "code",
   "execution_count": 74,
   "metadata": {},
   "outputs": [
    {
     "name": "stdout",
     "output_type": "stream",
     "text": [
      "[0.21643351 0.21643351 0.21643351 ... 0.21643351 0.21643351 0.21643351]\n",
      "(52252494,)\n"
     ]
    }
   ],
   "source": [
    "paddingCells_Alex= ((52252498-11999952)//2)-2\n",
    "paddingAlex=np.pad(Alex_room_flat, (paddingCells_Alex,), 'mean')\n",
    "\n",
    "print(paddingAlex)\n",
    "print(paddingAlex.shape)"
   ]
  },
  {
   "cell_type": "code",
   "execution_count": 75,
   "metadata": {},
   "outputs": [
    {
     "name": "stdout",
     "output_type": "stream",
     "text": [
      "[0.19243566 0.19243566 0.19243566 ... 0.19243566 0.19243566 0.19243566]\n",
      "(52252494,)\n"
     ]
    }
   ],
   "source": [
    "paddingCells_Pitts= ((52252498-12000018)//2)-2\n",
    "paddingPitts=np.pad(Pitts_room_flat, (paddingCells_Pitts,), 'mean')\n",
    "\n",
    "print(paddingPitts)\n",
    "print(paddingPitts.shape)"
   ]
  },
  {
   "cell_type": "code",
   "execution_count": 76,
   "metadata": {},
   "outputs": [
    {
     "name": "stdout",
     "output_type": "stream",
     "text": [
      "[0.15208164 0.15208164 0.15208164 ... 0.15208164 0.15208164 0.15208164]\n",
      "(52252494,)\n"
     ]
    }
   ],
   "source": [
    "paddingCells_Chryssas= ((52252498-11999982)//2)-2\n",
    "paddingChryssas=np.pad(Chryssas_room_flat, (paddingCells_Chryssas,), 'mean')\n",
    "\n",
    "print(paddingChryssas)\n",
    "print(paddingChryssas.shape)"
   ]
  },
  {
   "cell_type": "code",
   "execution_count": 77,
   "metadata": {},
   "outputs": [
    {
     "name": "stdout",
     "output_type": "stream",
     "text": [
      "[0.37739872 0.37739872 0.37739872 ... 0.37739872 0.37739872 0.37739872]\n",
      "(52252494,)\n"
     ]
    }
   ],
   "source": [
    "paddingCells_Imke= ((52252498-2702730)//2)-2\n",
    "paddingImke=np.pad(Imke_room_flat, (paddingCells_Imke,), 'mean')\n",
    "\n",
    "print(paddingImke)\n",
    "print(paddingImke.shape)"
   ]
  },
  {
   "cell_type": "code",
   "execution_count": 78,
   "metadata": {},
   "outputs": [
    {
     "name": "stdout",
     "output_type": "stream",
     "text": [
      "[0.23256334 0.23256334 0.23256334 ... 0.23256334 0.23256334 0.23256334]\n",
      "(52252494,)\n"
     ]
    }
   ],
   "source": [
    "paddingCells_AntonisB= ((52252498-7895874)//2)-2\n",
    "paddingAntonisB=np.pad(AntonisB_room_flat, (paddingCells_AntonisB,), 'mean')\n",
    "\n",
    "print(paddingAntonisB)\n",
    "print(paddingAntonisB.shape)"
   ]
  },
  {
   "cell_type": "code",
   "execution_count": 79,
   "metadata": {},
   "outputs": [
    {
     "name": "stdout",
     "output_type": "stream",
     "text": [
      "[1.68337515 1.68337515 1.68337515 ... 1.68337515 1.68337515 1.68337515]\n",
      "(52252494,)\n"
     ]
    }
   ],
   "source": [
    "paddingCells_George= ((52252498-6073512)//2)-2\n",
    "paddingGeorge=np.pad(George_room_flat, (paddingCells_George,), 'mean')\n",
    "\n",
    "print(paddingGeorge)\n",
    "print(paddingGeorge.shape)"
   ]
  },
  {
   "cell_type": "code",
   "execution_count": 80,
   "metadata": {},
   "outputs": [
    {
     "name": "stdout",
     "output_type": "stream",
     "text": [
      "[0.23754133 0.23754133 0.23754133 ... 0.23754133 0.23754133 0.23754133]\n",
      "(52252494,)\n"
     ]
    }
   ],
   "source": [
    "paddingCells_Thanasis= ((52252498-3803682)//2)-2\n",
    "paddingThanasis=np.pad(Thanasis_room_flat, (paddingCells_Thanasis,), 'mean')\n",
    "\n",
    "print(paddingThanasis)\n",
    "print(paddingThanasis.shape)"
   ]
  },
  {
   "cell_type": "code",
   "execution_count": 81,
   "metadata": {},
   "outputs": [
    {
     "name": "stdout",
     "output_type": "stream",
     "text": [
      "[0.24486713 0.24486713 0.24486713 ... 0.24486713 0.24486713 0.24486713]\n",
      "(52252494,)\n"
     ]
    }
   ],
   "source": [
    "paddingCells_Vasilis= ((52252498-4222410)//2)-2\n",
    "paddingVasilis=np.pad(Vasilis_room_flat, (paddingCells_Vasilis,), 'mean')\n",
    "\n",
    "print(paddingVasilis)\n",
    "print(paddingVasilis.shape)"
   ]
  },
  {
   "cell_type": "code",
   "execution_count": 82,
   "metadata": {},
   "outputs": [
    {
     "name": "stdout",
     "output_type": "stream",
     "text": [
      "[0.24789151 0.24789151 0.24789151 ... 0.24789151 0.24789151 0.24789151]\n",
      "(52252494,)\n"
     ]
    }
   ],
   "source": [
    "paddingCells_GeorgeB= ((52252498-8018202)//2)-2\n",
    "paddingGeorgeB=np.pad(GeorgeB_room_flat, (paddingCells_GeorgeB,), 'mean')\n",
    "\n",
    "print(paddingGeorgeB)\n",
    "print(paddingGeorgeB.shape)"
   ]
  },
  {
   "cell_type": "code",
   "execution_count": 83,
   "metadata": {},
   "outputs": [
    {
     "name": "stdout",
     "output_type": "stream",
     "text": [
      "[0.20862006 0.20862006 0.20862006 ... 0.20862006 0.20862006 0.20862006]\n",
      "(52252494,)\n"
     ]
    }
   ],
   "source": [
    "paddingCells_Iliana= ((52252498-6606900)//2)-2\n",
    "paddingIliana=np.pad(Iliana_room_flat, (paddingCells_Iliana,), 'mean')\n",
    "\n",
    "print(paddingIliana)\n",
    "print(paddingIliana.shape)"
   ]
  },
  {
   "cell_type": "code",
   "execution_count": 84,
   "metadata": {},
   "outputs": [
    {
     "name": "stdout",
     "output_type": "stream",
     "text": [
      "[0.23880472 0.23880472 0.23880472 ... 0.23880472 0.23880472 0.23880472]\n",
      "(52252494,)\n"
     ]
    }
   ],
   "source": [
    "paddingCells_Apostolis= ((52252498-3636750)//2)-2\n",
    "paddingApostolis=np.pad(Apostolis_room_flat, (paddingCells_Apostolis,), 'mean')\n",
    "\n",
    "print(paddingApostolis)\n",
    "print(paddingApostolis.shape)"
   ]
  },
  {
   "cell_type": "code",
   "execution_count": 85,
   "metadata": {},
   "outputs": [
    {
     "name": "stdout",
     "output_type": "stream",
     "text": [
      "[0.14053109 0.14053109 0.14053109 ... 0.14053109 0.14053109 0.14053109]\n",
      "(52252494,)\n"
     ]
    }
   ],
   "source": [
    "paddingCells_Dimitris= ((52252498-2697252)//2)-2\n",
    "paddingDimitris=np.pad(Dimitris_room_flat, (paddingCells_Dimitris,), 'mean')\n",
    "\n",
    "print(paddingDimitris)\n",
    "print(paddingDimitris.shape)"
   ]
  },
  {
   "cell_type": "code",
   "execution_count": 86,
   "metadata": {},
   "outputs": [
    {
     "name": "stdout",
     "output_type": "stream",
     "text": [
      "[[0.14369095 0.27575598 0.00694855 ... 0.59607843 0.77254902 0.85490196]\n",
      " [1.3589272  1.3589272  1.3589272  ... 1.3589272  1.3589272  1.3589272 ]\n",
      " [3.96288038 3.96288038 3.96288038 ... 3.96288038 3.96288038 3.96288038]\n",
      " ...\n",
      " [0.20862006 0.20862006 0.20862006 ... 0.20862006 0.20862006 0.20862006]\n",
      " [0.23880472 0.23880472 0.23880472 ... 0.23880472 0.23880472 0.23880472]\n",
      " [0.14053109 0.14053109 0.14053109 ... 0.14053109 0.14053109 0.14053109]]\n"
     ]
    }
   ],
   "source": [
    "#Create an array with all the data of each room\n",
    "allinOne=np.vstack((Aggelos_room_flat,paddingAggela,paddingYota, paddingSofia, paddingAntonis, paddingMartins, paddingEnricos, paddingPolinikis,paddingAlex,paddingPitts,paddingChryssas,paddingImke,paddingAntonisB,paddingGeorge,paddingThanasis,paddingVasilis,paddingGeorgeB,paddingIliana,paddingApostolis,paddingDimitris))\n",
    "print(allinOne)"
   ]
  },
  {
   "cell_type": "code",
   "execution_count": 126,
   "metadata": {},
   "outputs": [
    {
     "name": "stdout",
     "output_type": "stream",
     "text": [
      "TSNE(learning_rate=200, n_components=3, perplexity=3, random_state=0)\n"
     ]
    }
   ],
   "source": [
    "#tsne = TSNE(n_components=3, random_state=0)\n",
    "tsne = TSNE(n_components=3, random_state=0, perplexity=3, learning_rate = 200)\n",
    "print(tsne)"
   ]
  },
  {
   "cell_type": "code",
   "execution_count": 127,
   "metadata": {},
   "outputs": [
    {
     "data": {
      "text/plain": [
       "(20, 3)"
      ]
     },
     "execution_count": 127,
     "metadata": {},
     "output_type": "execute_result"
    }
   ],
   "source": [
    "#Project the Data in 2D\n",
    "X_2d = tsne.fit_transform(allinOne)\n",
    "#print the shape\n",
    "X_2d.shape"
   ]
  },
  {
   "cell_type": "code",
   "execution_count": 128,
   "metadata": {},
   "outputs": [
    {
     "name": "stdout",
     "output_type": "stream",
     "text": [
      "[[-148.07553    -58.30803   -318.44415  ]\n",
      " [  28.576607   197.69437    157.71277  ]\n",
      " [ -14.284368  -209.40535    303.41556  ]\n",
      " [  84.251396  -147.63396   -208.4912   ]\n",
      " [  19.89872    380.74734   -106.72478  ]\n",
      " [-216.61118     86.780624  -131.47386  ]\n",
      " [ 160.74835   -244.70546     64.83105  ]\n",
      " [ 222.32538     57.200233   111.37131  ]\n",
      " [ -21.62492    184.94366    -32.805344 ]\n",
      " [-151.4155    -183.70015    137.85689  ]\n",
      " [-180.9052     100.58499    122.43178  ]\n",
      " [-202.75854   -133.83676    -61.172306 ]\n",
      " [  33.716576   -25.259752   157.19948  ]\n",
      " [ 182.21794    206.9042     -95.16746  ]\n",
      " [  66.89341   -100.07773    -20.124413 ]\n",
      " [ -68.905914   -18.955057    -8.381029 ]\n",
      " [  -3.7045257   62.567486  -183.1954   ]\n",
      " [ 220.03743     14.164095  -223.59238  ]\n",
      " [ -45.432716  -154.84454    -34.107117 ]\n",
      " [-285.83047    -59.21878    179.00204  ]]\n"
     ]
    }
   ],
   "source": [
    "print(X_2d)"
   ]
  },
  {
   "cell_type": "code",
   "execution_count": 129,
   "metadata": {},
   "outputs": [
    {
     "name": "stdout",
     "output_type": "stream",
     "text": [
      "['Aggelos' 'Aggela' 'Yota' 'Sofia' 'Antonis' 'Martins' 'Enricos'\n",
      " 'Polinikis' 'Alex' 'Pitts' 'Chryssa' 'Imke' 'AntonisB' 'George'\n",
      " 'Thanasis' 'Vasilis' 'GeorgeB' 'Iliana' 'Apostolis' 'Dimitris']\n"
     ]
    }
   ],
   "source": [
    "#Create an array with the labels\n",
    "names = [\"Aggelos\", \"Aggela\",\"Yota\", \"Sofia\",\"Antonis\",\"Martins\",\"Enricos\",\"Polinikis\", \"Alex\", \"Pitts\",\"Chryssa\",\"Imke\",\"AntonisB\",\"George\",\"Thanasis\",\"Vasilis\",\"GeorgeB\",\"Iliana\",\"Apostolis\",\"Dimitris\"]\n",
    "labels = np.array(names)\n",
    "print(labels)"
   ]
  },
  {
   "cell_type": "code",
   "execution_count": 130,
   "metadata": {},
   "outputs": [],
   "source": [
    "target_ids = range(len(labels))"
   ]
  },
  {
   "cell_type": "code",
   "execution_count": 131,
   "metadata": {},
   "outputs": [
    {
     "data": {
      "image/png": "[encoded data removed]",
      "text/plain": [
       "<Figure size 504x504 with 1 Axes>"
      ]
     },
     "metadata": {
      "needs_background": "light"
     },
     "output_type": "display_data"
    }
   ],
   "source": [
    "#Visualize the Data in 2D\n",
    "first=plt.figure(figsize=(7, 7))\n",
    "colors = 'r', 'g', 'b', 'orange', 'seagreen', 'm', 'y','peru', 'salmon','lightgreen','gray', 'olive', 'rosybrown', 'springgreen', 'tan', 'maroon','pink','lightseagreen','cornflowerblue','antiquewhite'\n",
    "for i, c, label in zip(target_ids, colors, labels):\n",
    "    plt.scatter(X_2d[i, 0], X_2d[i, 1], c=c, label=label) \n",
    "plt.legend()\n",
    "plt.show()\n",
    "first.savefig('hist1.png', dpi=first.dpi)"
   ]
  },
  {
   "cell_type": "code",
   "execution_count": 132,
   "metadata": {},
   "outputs": [
    {
     "data": {
      "image/png": "[encoded data removed]",
      "text/plain": [
       "<Figure size 504x504 with 1 Axes>"
      ]
     },
     "metadata": {
      "needs_background": "light"
     },
     "output_type": "display_data"
    }
   ],
   "source": [
    "#Visualize the Data in 2D\n",
    "fig = plt.figure(figsize=(7, 7))\n",
    "ax = fig.add_subplot(111, projection='3d', elev=20, azim=200)\n",
    "\n",
    "for i, c, label in zip(target_ids, colors, labels):\n",
    "    plot = ax.scatter(X_2d[i, 0], X_2d[i, 1], X_2d[i, 2], c=c, label=label) \n",
    "plt.legend()\n",
    "plt.show()\n",
    "fig.savefig('hist2.png', dpi=fig.dpi)"
   ]
  },
  {
   "cell_type": "code",
   "execution_count": 133,
   "metadata": {},
   "outputs": [],
   "source": [
    "#Load thumbnails\n",
    "def getImage(path):\n",
    "    return OffsetImage(plt.imread(path))\n",
    "\n",
    "paths = [\n",
    "    'Aggelos.png',\n",
    "    'Aggela.png',\n",
    "    'Yota.png',\n",
    "    'Sofia.png',\n",
    "    'Antonis.png',\n",
    "    'Martins.png',\n",
    "    'Enricos.png',\n",
    "    'Polinikis.png',\n",
    "    'Alex.png',\n",
    "    'Pitts.png',\n",
    "    'Chryssa.png',\n",
    "    'Imke.png',\n",
    "    'AntonisB.png',\n",
    "    'George.png',\n",
    "    'Thanasis.png',\n",
    "    'Vasilis.png',\n",
    "    'GeorgeB.png',\n",
    "    'Iliana.png',\n",
    "    'Apostolis.png',\n",
    "    'Dimitris.png'\n",
    "    ]"
   ]
  },
  {
   "cell_type": "code",
   "execution_count": 134,
   "metadata": {},
   "outputs": [
    {
     "data": {
      "image/png": "[encoded data removed]",
      "text/plain": [
       "<Figure size 504x504 with 1 Axes>"
      ]
     },
     "metadata": {
      "needs_background": "light"
     },
     "output_type": "display_data"
    }
   ],
   "source": [
    "#Visualize the Data in 2D\n",
    "fig, ax = plt.subplots(figsize=(7, 7))\n",
    "\n",
    "for i, path in zip(target_ids,paths):\n",
    "    ax.scatter(X_2d[i, 0], X_2d[i, 1])\n",
    "    #ax.set_axis_off()\n",
    "    ab = AnnotationBbox(getImage(path), (X_2d[i, 0], X_2d[i, 1]), frameon=False)\n",
    "    ax.add_artist(ab)\n",
    "    \n",
    "fig.savefig('hist3.png', dpi=fig.dpi)\n",
    "        \n",
    "        "
   ]
  },
  {
   "cell_type": "code",
   "execution_count": 135,
   "metadata": {},
   "outputs": [
    {
     "data": {
      "image/png": "[encoded data removed]",
      "text/plain": [
       "<Figure size 504x504 with 2 Axes>"
      ]
     },
     "metadata": {
      "needs_background": "light"
     },
     "output_type": "display_data"
    }
   ],
   "source": [
    "#Import Libraries\n",
    "import matplotlib.pyplot as plt\n",
    "from matplotlib import offsetbox\n",
    "from mpl_toolkits.mplot3d import Axes3D\n",
    "from mpl_toolkits.mplot3d import proj3d\n",
    "\n",
    "#Visualize the Data in 3D\n",
    "\n",
    "xx = X_2d[:, 0]\n",
    "xs = xx.tolist()\n",
    "yy = X_2d[:, 1]\n",
    "ys = yy.tolist()\n",
    "zz = X_2d[:, 2]\n",
    "zs = zz.tolist()\n",
    "\n",
    "c = [\"r\",\"g\",\"b\",\"orange\",\"seagreen\",\"m\",\"y\",\"peru\",\"salmon\",\"lightgreen\",\"gray\",\"olive\",\"rosybrown\",\"springgreen\",\"tan\",\"maroon\",\"pink\",\"lightseagreen\",\"cornflowerblue\",\"antiquewhite\"]\n",
    "\n",
    "fig = plt.figure(figsize=(7, 7))\n",
    "ax = fig.add_subplot(111, projection=Axes3D.name, elev=20, azim=200,frame_on=False)\n",
    "#ax.set_axis_off()\n",
    "ax.scatter(xs, ys, zs, c=c, marker=\"o\")\n",
    "\n",
    "# Create a dummy axes to place annotations to\n",
    "ax2 = fig.add_subplot(111,frame_on=False) \n",
    "ax2.axis(\"off\")\n",
    "ax2.axis([0,1,0,1])\n",
    "\n",
    "\n",
    "def proj(X, ax1, ax2):\n",
    "    \"\"\" From a 3D point in axes ax1, \n",
    "        calculate position in 2D in ax2 \"\"\"\n",
    "    x,y,z = X\n",
    "    x2, y2, _ = proj3d.proj_transform(x,y,z, ax1.get_proj())\n",
    "    return ax2.transData.inverted().transform(ax1.transData.transform((x2, y2)))\n",
    "\n",
    "def image(ax,path,xy):\n",
    "    \"\"\" Place an image (arr) as annotation at position xy \"\"\"\n",
    "    im = getImage(path)\n",
    "    im.image.axes = ax\n",
    "    ab = offsetbox.AnnotationBbox(im, xy, xybox=(0, 0),\n",
    "                        xycoords='data', boxcoords=\"offset points\",\n",
    "                        pad=0.3, arrowprops=dict(arrowstyle=\"->\"), frameon=False)\n",
    "    ax.add_artist(ab)\n",
    "\n",
    "j=0\n",
    "for s in zip(xs,ys,zs):\n",
    "    x,y = proj(s, ax, ax2)\n",
    "    image(ax2,paths[j],[x,y])\n",
    "    j=j+1\n",
    "\n",
    "plt.show()\n",
    "fig.savefig('hist4.png', dpi=fig.dpi)"
   ]
  },
  {
   "cell_type": "code",
   "execution_count": null,
   "metadata": {},
   "outputs": [],
   "source": []
  }
 ],
 "metadata": {
  "kernelspec": {
   "display_name": "Python 3",
   "language": "python",
   "name": "python3"
  },
  "language_info": {
   "codemirror_mode": {
    "name": "ipython",
    "version": 3
   },
   "file_extension": ".py",
   "mimetype": "text/x-python",
   "name": "python",
   "nbconvert_exporter": "python",
   "pygments_lexer": "ipython3",
   "version": "3.8.3"
  }
 },
 "nbformat": 4,
 "nbformat_minor": 4
}
